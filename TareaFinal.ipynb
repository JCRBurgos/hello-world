{
  "nbformat": 4,
  "nbformat_minor": 0,
  "metadata": {
    "colab": {
      "name": "TareaFinal.ipynb",
      "provenance": [],
      "authorship_tag": "ABX9TyMpHvrH4/5O/S4DZVpjw91v",
      "include_colab_link": true
    },
    "kernelspec": {
      "name": "python3",
      "display_name": "Python 3"
    },
    "language_info": {
      "name": "python"
    }
  },
  "cells": [
    {
      "cell_type": "markdown",
      "metadata": {
        "id": "view-in-github",
        "colab_type": "text"
      },
      "source": [
        "<a href=\"https://colab.research.google.com/github/JCRBurgos/hello-world/blob/master/TareaFinal.ipynb\" target=\"_parent\"><img src=\"https://colab.research.google.com/assets/colab-badge.svg\" alt=\"Open In Colab\"/></a>"
      ]
    },
    {
      "cell_type": "code",
      "metadata": {
        "id": "6oKiGEGkMT86"
      },
      "source": [
        "%load_ext rpy2.ipython"
      ],
      "execution_count": 1,
      "outputs": []
    },
    {
      "cell_type": "markdown",
      "metadata": {
        "id": "MNiRs33vRdzq"
      },
      "source": [
        "# Estadística Descriptiva\n",
        "\n",
        "**Hoja: Delitos.xlsx**\n",
        "\n",
        "-  Realizar un cuadro de resumen, una gráfica de barras y una gráfica circular de la variable \"Robo Parcial de Vehículos\" pero resumiendo por año. ¿En qué año hubo más delitos?\n",
        "\n",
        "\n",
        "-  Realiza una tabla de distribución de frecuencias y un histograma de la variable \"Totales\" con ocho clases.\n",
        "\n",
        "-  Para ambas variables calcule \n",
        "    -   media,\n",
        "    -   mediana,\n",
        "    -   4 cuartiles y rango intercuartil\n",
        "    -   varianza poblacional,\n",
        "    -   desviación estándar, y\n",
        "    -   rango estadístico. \n",
        "\n",
        "- Dibuje un diagrama de caja de la variable \"Robo parcial de vehículos\".  \n",
        "\n",
        "- Calcule el coeficiente de variación,  para la variable \"Totales\".\n",
        "\n",
        "- Calcula el coeficiente de correlación y realice un diagrama de dispersión entre las variables \"Totales\" y \"Robo parcial de vehículos\".\n",
        "\n",
        "- Calcular el nivel de Asimétria y Curtosis de la variable \"Robo parcial de vehículos\".\n",
        "\n"
      ]
    },
    {
      "cell_type": "markdown",
      "metadata": {
        "id": "uGToLCUJanZr"
      },
      "source": [
        "---\n",
        "\n",
        "<br>\n",
        "\n",
        "---"
      ]
    },
    {
      "cell_type": "markdown",
      "metadata": {
        "id": "vwjKdXqFWT1I"
      },
      "source": [
        "# Estimadores y Error cuadrático medio\n",
        "\n",
        "1. Considera $X_1,\\ldots,X_n$ una colección de vv.aa. independientes con media $E(X_i)=\\mu+\\beta_i$ y varianzas $Var(X_i)=\\sigma_i^2$. Esta situación puede surgir cuando las $X_i$ provienen de distintas fuentes. En cada caso $\\beta_i$ representa el sesgo de cada estimador $X_i$. Considera el estimador mezclado $\\hat{\\mu}=w_1X_1+w_2X_2+\\cdot+w_nX_n$\n",
        "\n",
        "   -  Si los estimadores $X_i$ son insesgados, demostrar que $\\hat{\\mu}$ es insesgado solamente si $\\sum_{i=1}^n=1$.\n",
        "   -  Suponiendo que los estimadores $X_i$ son insesgaados, muestra que $\\hat{\\mu}$ tiene varianza mínima cuando los pesos $w_i$ son inversamente proporcionales a las varianzas $\\sigma^2_i$\n",
        "   -  Proporcionar el ECM de $\\hat{\\mu}$ cuando los pesos son óptimos (se cumplen los dos incisos anteriores).\n",
        "\n"
      ]
    },
    {
      "cell_type": "markdown",
      "metadata": {
        "id": "Xv70zhy5UsMr"
      },
      "source": [
        "2.  Sean $X_1,\\ldots,X_n$ una muestra de tamaño $n$ de una distribución uniforme en el intervalo $(0,\\theta)$, cuya densidad es\n",
        "$$f(x;\\theta)=\\frac{1}{\\theta}\\qquad 0<x<\\theta$$\n",
        "\n",
        "  -  Encuentra el valor esperado y varianza del estimador $\\hat{\\theta}=2\\bar{X}$\n",
        "  - Encuentra el valor esperado del estimador $\\tilde{\\theta}=max\\{X_1,\\ldots,X_n\\}\\equiv X_{(n)}$\n",
        "  - Encuentra un estimador insesgado de la forma $\\tilde{\\theta}=cX_{(n)}$\n",
        "  - Compara los ECMs de $\\hat{\\theta}$ y $\\tilde{\\theta}$"
      ]
    },
    {
      "cell_type": "markdown",
      "metadata": {
        "id": "k-wXI21_th6Z"
      },
      "source": [
        ""
      ]
    },
    {
      "cell_type": "markdown",
      "metadata": {
        "id": "IB3iaJgYagAJ"
      },
      "source": [
        "---\n",
        "\n",
        "<br>\n",
        "\n",
        "---"
      ]
    },
    {
      "cell_type": "markdown",
      "metadata": {
        "id": "CmNVWIonVw-E"
      },
      "source": [
        "# Intervalos de Confianza\n",
        "\n",
        "## Intervalos de confianza para la media y proporción poblacional\n",
        "\n",
        "1. El *Wall Street Journal* reporto un costo anual de $\\$162$ billones por los accidentes automóvilisticos en Estados Unidos. El costo promedio por persona de estos accidentes en Tampa, Florida, se reporto en $\\$1,599$. Supongamos que este costo promedio esta basado en una muestra de 50 personas quienes se han involucrado en algún accidente y que la desviación estándar poblacional es $\\sigma=\\$600$.\n",
        "-  ¿Cuál es el margen de error para un intervalo de confianza de $95\\%$?\n",
        "-  ¿Qué recomendarías si se requiriera un margen de error de $\\$150$ o menos?"
      ]
    },
    {
      "cell_type": "markdown",
      "metadata": {
        "id": "AdqOCBvbfUpL"
      },
      "source": [
        "2. El departamento de educación encontró que en una muestra aleatora de 100 personas que fueron al colegio, $40$ recibío un grado académico. Hallar un intervalo de confianza del $99\\%$ de la proporción de estudiantes graduados del total de estudiantes que fueron al colegio. "
      ]
    },
    {
      "cell_type": "markdown",
      "metadata": {
        "id": "sng8A6UKpw17"
      },
      "source": [
        "3.  Se recoge de una muestra aleatoria de una línea de producción conocida por producir baterias cuya vida siguen una distribución normal. La  muestra de $n=10$ baterias de linternas mostró una vida media de operación de $\\bar{X}=5$h y una desviación estándar muestral $s=1$ h. Hallar un intervalo de confianza de $95\\%$ para la vida media de trabajo de la poblaciónd de baterias.  "
      ]
    },
    {
      "cell_type": "markdown",
      "metadata": {
        "id": "XkRbANByuIBH"
      },
      "source": [
        "4.  Una muestra aleatoria de $n=25$ con media $80$ se obtiene de una pblación de 1000 que se distribuye normalmente con desviación estándar de $30$. \n",
        "  -  Hallar un intervalo de *(a)* $90\\%$, *(b)* $95\\%$ y *(c)* $99\\%$ para la media poblacional.\n",
        "  -  ¿Qué relación encuentras en los respectivos intervalos?"
      ]
    },
    {
      "cell_type": "markdown",
      "metadata": {
        "id": "L5S-lrfGu2d4"
      },
      "source": [
        "5.  Una muestra aleatoria de $n=25$ con una media de $80$ y una desviación estándar de $30$ se toma de una población de 1000 que se distribuye normalmente. \n",
        "  -  Hallar un intervalo de *(a)* $90\\%$, *(b)* $95\\%$ y *(c)* $99\\%$ para la media poblacional.\n",
        "  -  ¿Cómo se comparan estos resultados con el ejercio anterior?"
      ]
    },
    {
      "cell_type": "markdown",
      "metadata": {
        "id": "tH7aDxiyvV7V"
      },
      "source": [
        "## Tamaño de una muestra para intervalos de confianza\n",
        "\n",
        "6. Un analista del departamento de personal desea estimar con un margen de $\\pm3.0$h y con un $90\\%$ de confianza, el número medio de horas anuales de capacitación de los supervisores de una división de la empresa. Con base en datos de otras divisiones el analista estima que la desviación estándar de las horas de capacitación es $\\sigma=20.0$ h. Determinar el tamaño de muestra mínimo que se requiere."
      ]
    },
    {
      "cell_type": "markdown",
      "metadata": {
        "id": "tVwsjx4H3ZdF"
      },
      "source": [
        "7.  Un posible comprador desea estimar el monto de ventas promedio en dólares por cliente en una tienda de juguetes ubicada en una términal aérea. Basándose en datos de otros aeropuertos similares estima que la desviación estándar de estos montos de ventas es aproximadamente $\\sigma=\\$3.20$. ¿Cuál deberá ser el tamaño mínimo de la muestra aleatoria si el comprador quiere estimar el monto medio de ventas con una exactitud de $\\pm\\$1.00$ y con $99\\%$ de confianza?"
      ]
    },
    {
      "cell_type": "markdown",
      "metadata": {
        "id": "9oBoJf0X7CZ4"
      },
      "source": [
        "## Intervalo de confianza para la diferencia de medias\n",
        "\n",
        "$$\\hat{\\sigma}^2=\\frac{(n_1-1)s_1^2+(n_2-1)s_2^2}{n_1+n_2-2}$$\n"
      ]
    },
    {
      "cell_type": "markdown",
      "metadata": {
        "id": "FMzYpAmIVUUC"
      },
      "source": [
        "8.  El año pasado la venta media en dólares en las plazas de ventas al menudeo de un producto específico en una muestra de $n_1=10$ tiendas fue $\\bar{X}_1=\\$3,425$ y $s_1=\\$200$. La venta media en dólares en las plazas de venta de un segundo producto en una muestra de $n_2=12$ tiendas fue $\\bar{X}_2=\\$3,250$ y $s_2=\\$175$. Se supone que los montos de venta de ambos productos por plaza tienen distribuión normal. Estime la diferencia entre estas medias de venta del año pasado mediante un intervalo de $95\\%$ de confianza. "
      ]
    },
    {
      "cell_type": "markdown",
      "metadata": {
        "id": "BLqD9jKLVLzZ"
      },
      "source": [
        "9.  En una muestra de $50$ empresas extraída de cierta industria, el número medio de empleados por empresa es $\\bar{X}_1=420.4$ y $s_1=55.7$. En una segunda industria el número medio de empleados en una muestra de $50$ empresas es $\\bar{X}_2=392.5$ empleados y $s_2=87.9$. Estime la diferencia entre los números medios de empleados por empresa en las dos industrias; use un intervalo de $90\\%$ de confianza. "
      ]
    },
    {
      "cell_type": "markdown",
      "metadata": {
        "id": "xIUESK9dc9uu"
      },
      "source": [
        "## Intervalo de Confianza para estimar las Proporciones poblacionales"
      ]
    },
    {
      "cell_type": "markdown",
      "metadata": {
        "id": "wmAfq0lBdEFs"
      },
      "source": [
        "10.  En una muestra aleatoria de $100$ familias de un área metropolitana grande, el número de ellas en las cuales cuando menos un adulto está acutalmente desempleado y busca un trabajo de tiempo completo es de $12$. Estime el porcentaje de familias en esa área en las que cuando menos un adulto está desempleado; use un intervalo de $95\\%$ de confianza."
      ]
    },
    {
      "cell_type": "markdown",
      "metadata": {
        "id": "BV1Q9zS5eojW"
      },
      "source": [
        "11.  Un fabricante compra un lote de 2000 partes electrónicas pequeñas del excedente de inventario de una empresa grande. En una muestra aleatoria de $50$ piezas se encuentra que cinco están defectuosas. Estima la proporción de todas las partes defectuosas en el lote; use un intervalo de $90\\%$ de confianza. Así también, estime el número total de parte defectuosas en el lote de las 2000 partes, dado el anterior intervalo. "
      ]
    },
    {
      "cell_type": "markdown",
      "metadata": {
        "id": "y7RqMw00gLpx"
      },
      "source": [
        "## Intervalo de confianza para la diferencia entre dos proporciones\n",
        "\n",
        "12. Con el objeto de medir la preferencia de los votantes respecto de una propuesta de bonos escolares, un inspector de escuelas toma muestras aleatorias de $n=100$ en cada una de las dos principales áreas residenciales del distrito escolar. En la primer área, $70$ de los $100$ votantes de la muestra indican que tienen intención de votar a favor de la propuesta, mientras que en la segunda área $50$ de $100$ votantes de la muestra indican tener esa intención. Estime la diferencia entre las proporciones reales de votantes en las dos áreas que tienen la intención de votar a favor de la propuesta; use límites de $95\\%$ de confianza."
      ]
    },
    {
      "cell_type": "markdown",
      "metadata": {
        "id": "XUW7uljZiAbd"
      },
      "source": [
        "# Intervalo de confianza para la varianza y la desviación estándar"
      ]
    },
    {
      "cell_type": "markdown",
      "metadata": {
        "id": "bnEkJdgtiEnu"
      },
      "source": [
        "13.  Suponga que como jefe de compras de una cadena privada de supermercados usted extrae una muestra aleatoria de $12$ latas de habichuelas verdes del número 303 de una planta de enlatado. El peso neto en cada lata drenada de habichuelas se reporta en la siguiente tabla\n",
        "\n",
        "|   |   |   |    |   |   |   |\n",
        "| --- | --- | --- | --- | --- | --- | --- |\n",
        "|Onzas por lata|15.7|15.8|15.9|16.0|16.1|16.2|\n",
        "|Número de latas| 1 | 2 | 2 | 3 | 3 | 1 |\n",
        "\n",
        "Determine \n",
        "\n",
        "a.   El peso medio neto de habichuelas en las latas de esta muestra,  \n",
        "b.   la desviación estándar de la muestra.  \n",
        "c.   Si los pesos netos por lata tienen distribución normal, estime el peso medio por lata mediante un intervalo de $95\\%$ de confianza.  \n",
        "d.   Estime un intervalo de confianza del $90\\%$ para la varianza y la desviación estándar."
      ]
    },
    {
      "cell_type": "markdown",
      "metadata": {
        "id": "7VlcCdpNmPL-"
      },
      "source": [
        "14.  La media de la venta al menudeo en dólares por plaza de ventas de un determinado producto durante el año pasado en una muestra de $n=10$ tiendas fue $\\bar{X}=\\$3,425$ y $s=\\$200$. Se supone que los montos de la venta por plaza tienen distribución normal. Estime un intervalo de confianza del $90\\%$ para la varianza y la desviación estándar de la venta en dólares de este producto en todas las tiendas durante el año pasado. "
      ]
    },
    {
      "cell_type": "markdown",
      "metadata": {
        "id": "mjYnaIRYaqyd"
      },
      "source": [
        "---\n",
        "\n",
        "<br>\n",
        "\n",
        "---"
      ]
    },
    {
      "cell_type": "markdown",
      "metadata": {
        "id": "9BRgRJV3adxp"
      },
      "source": [
        "# Pruebas de Hipótesis\n",
        "\n",
        "## Pruebas de Hipótesis para la media\n",
        "\n",
        "1.  Los individuos que realizaron su declaración de impuestos antes del 15 de Abril recibieron un reembolso de $\\$8,056$. Consideramos ahora la población de los declarantes de \"último momento\" que hacen su declaración los últimos 5 días de Abril. \n",
        "  - Un investigador sugiere que la razón por la cuál los individuos esperan hasta los últimos 5 días es que esperan recibir una cantidad menor que los primeros declarantes. Describe las hipótesis que se deben considerar para contrastar la afirmación del investigador.\n",
        "  - Para una muestra de $400$ individuos que llenaron su declaración del 26 al 30 de Abril, la media muestral es de $\\$7,910$. Basado en experiencias previas, la desviación estándar de la población es de $\\sigma=\\$1,600$. ¿Cuál es el $p$-valor?\n",
        "  - Con un nivel de confianza de $\\alpha=0.05$, ¿cuál es tu conclusión?\n",
        "  - Repite el contraste de hipótesis pero considerando el valor crítico."
      ]
    },
    {
      "cell_type": "markdown",
      "metadata": {
        "id": "GakXeyOVu9LQ"
      },
      "source": [
        ""
      ]
    }
  ]
}